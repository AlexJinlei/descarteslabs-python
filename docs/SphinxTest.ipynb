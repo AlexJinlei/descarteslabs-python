{
 "cells": [
  {
   "cell_type": "markdown",
   "metadata": {},
   "source": [
    "# Notebook Test"
   ]
  },
  {
   "cell_type": "code",
   "execution_count": 1,
   "metadata": {
    "collapsed": true,
    "deletable": true,
    "editable": true
   },
   "outputs": [],
   "source": [
    "%matplotlib inline\n",
    "import matplotlib.pyplot as plt\n",
    "\n",
    "import cartopy\n",
    "from shapely.geometry import shape, mapping, box\n",
    "\n",
    "from descarteslabs import services\n",
    "\n",
    "runcible = services.Metadata()\n",
    "raster = services.Raster()\n",
    "waldo = services.Places()"
   ]
  },
  {
   "cell_type": "code",
   "execution_count": 2,
   "metadata": {
    "collapsed": false,
    "deletable": true,
    "editable": true
   },
   "outputs": [
    {
     "data": {
      "image/png": "[encoded data removed]",
      "text/plain": [
       "<matplotlib.figure.Figure at 0x10f9a4c18>"
      ]
     },
     "metadata": {},
     "output_type": "display_data"
    }
   ],
   "source": [
    "il = waldo.shape('illinois', geom='low')\n",
    "il_geom = shape(il['geometry'])\n",
    "\n",
    "def get_shape_bounds(shp):\n",
    "    bnd = shp.bounds\n",
    "    return (bnd[0], bnd[2], bnd[1], bnd[3])\n",
    "\n",
    "fig = plt.figure(figsize=(4,6))\n",
    "\n",
    "crs = cartopy.crs.PlateCarree() # Lon/lat (EPSG 4326)\n",
    "ax = plt.subplot(projection=crs, animated=False)\n",
    "\n",
    "ax.add_geometries([il_geom], lw=1.25, facecolor='none',\n",
    "                  edgecolor='maroon', crs=crs)\n",
    "ax.set_extent(get_shape_bounds(il_geom.buffer(0.75)), crs)"
   ]
  }
 ],
 "metadata": {
  "kernelspec": {
   "display_name": "Python 3",
   "language": "python",
   "name": "python3"
  },
  "language_info": {
   "codemirror_mode": {
    "name": "ipython",
    "version": 3
   },
   "file_extension": ".py",
   "mimetype": "text/x-python",
   "name": "python",
   "nbconvert_exporter": "python",
   "pygments_lexer": "ipython3",
   "version": "3.6.0"
  }
 },
 "nbformat": 4,
 "nbformat_minor": 2
}
