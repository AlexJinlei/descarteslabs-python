version https://git-lfs.github.com/spec/v1
oid sha256:05c426ffe5c1f8422369034a4d7d1aa1c462161ac3819a4354af4375e001d1ab
size 4984317
